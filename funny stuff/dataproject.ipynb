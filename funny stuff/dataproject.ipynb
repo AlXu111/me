{
 "cells": [
  {
   "cell_type": "code",
   "execution_count": 7,
   "metadata": {},
   "outputs": [
    {
     "data": {
      "text/html": [
       "<div>\n",
       "<style scoped>\n",
       "    .dataframe tbody tr th:only-of-type {\n",
       "        vertical-align: middle;\n",
       "    }\n",
       "\n",
       "    .dataframe tbody tr th {\n",
       "        vertical-align: top;\n",
       "    }\n",
       "\n",
       "    .dataframe thead th {\n",
       "        text-align: right;\n",
       "    }\n",
       "</style>\n",
       "<table border=\"1\" class=\"dataframe\">\n",
       "  <thead>\n",
       "    <tr style=\"text-align: right;\">\n",
       "      <th></th>\n",
       "      <th>OBJECTID</th>\n",
       "      <th>NAME</th>\n",
       "      <th>NAME_SHORT</th>\n",
       "      <th>TYPE</th>\n",
       "      <th>IUCN</th>\n",
       "      <th>RES_NO</th>\n",
       "      <th>GAZ_DATE</th>\n",
       "      <th>VERDATE</th>\n",
       "    </tr>\n",
       "  </thead>\n",
       "  <tbody>\n",
       "    <tr>\n",
       "      <th>0</th>\n",
       "      <td>1</td>\n",
       "      <td>Aberbaldie Nature Reserve</td>\n",
       "      <td>Aberbaldie NR</td>\n",
       "      <td>NATURE RESERVE</td>\n",
       "      <td>IA</td>\n",
       "      <td>N0902</td>\n",
       "      <td>2003-03-14</td>\n",
       "      <td>2022-03-31</td>\n",
       "    </tr>\n",
       "    <tr>\n",
       "      <th>1</th>\n",
       "      <td>2</td>\n",
       "      <td>Abercrombie Karst Conservation Reserve</td>\n",
       "      <td>Abercrombie KCR</td>\n",
       "      <td>KARST CONSERVATION RESERVE</td>\n",
       "      <td>III</td>\n",
       "      <td>N0350</td>\n",
       "      <td>1997-12-08</td>\n",
       "      <td>2022-03-31</td>\n",
       "    </tr>\n",
       "    <tr>\n",
       "      <th>2</th>\n",
       "      <td>3</td>\n",
       "      <td>Abercrombie River National Park</td>\n",
       "      <td>Abercrombie River NP</td>\n",
       "      <td>NATIONAL PARK</td>\n",
       "      <td>II</td>\n",
       "      <td>N0093</td>\n",
       "      <td>1995-12-22</td>\n",
       "      <td>2022-03-31</td>\n",
       "    </tr>\n",
       "    <tr>\n",
       "      <th>3</th>\n",
       "      <td>4</td>\n",
       "      <td>Abercrombie River State Conservation Area</td>\n",
       "      <td>Abercrombie River SCA</td>\n",
       "      <td>STATE CONSERVATION AREA</td>\n",
       "      <td>II</td>\n",
       "      <td>N1143</td>\n",
       "      <td>2010-05-21</td>\n",
       "      <td>2022-03-31</td>\n",
       "    </tr>\n",
       "    <tr>\n",
       "      <th>4</th>\n",
       "      <td>5</td>\n",
       "      <td>Adelyne CCA Zone 3 State Conservation Area</td>\n",
       "      <td>Adelyne CCAZ3 SCA</td>\n",
       "      <td>CCA ZONE 3 STATE CONSERVATION AREA</td>\n",
       "      <td>II</td>\n",
       "      <td>N1163</td>\n",
       "      <td>2011-01-01</td>\n",
       "      <td>2022-03-31</td>\n",
       "    </tr>\n",
       "  </tbody>\n",
       "</table>\n",
       "</div>"
      ],
      "text/plain": [
       "   OBJECTID                                        NAME  \\\n",
       "0         1                   Aberbaldie Nature Reserve   \n",
       "1         2      Abercrombie Karst Conservation Reserve   \n",
       "2         3             Abercrombie River National Park   \n",
       "3         4   Abercrombie River State Conservation Area   \n",
       "4         5  Adelyne CCA Zone 3 State Conservation Area   \n",
       "\n",
       "              NAME_SHORT                                TYPE IUCN RES_NO  \\\n",
       "0          Aberbaldie NR                      NATURE RESERVE   IA  N0902   \n",
       "1        Abercrombie KCR          KARST CONSERVATION RESERVE  III  N0350   \n",
       "2   Abercrombie River NP                       NATIONAL PARK   II  N0093   \n",
       "3  Abercrombie River SCA             STATE CONSERVATION AREA   II  N1143   \n",
       "4      Adelyne CCAZ3 SCA  CCA ZONE 3 STATE CONSERVATION AREA   II  N1163   \n",
       "\n",
       "     GAZ_DATE     VERDATE  \n",
       "0  2003-03-14  2022-03-31  \n",
       "1  1997-12-08  2022-03-31  \n",
       "2  1995-12-22  2022-03-31  \n",
       "3  2010-05-21  2022-03-31  \n",
       "4  2011-01-01  2022-03-31  "
      ]
     },
     "execution_count": 7,
     "metadata": {},
     "output_type": "execute_result"
    }
   ],
   "source": [
    "import matplotlib\n",
    "import matplotlib.pyplot as plt\n",
    "import numpy as np\n",
    "import pandas as pd\n",
    "from simpledbf import Dbf5\n",
    "dbf = Dbf5('NPWS_Estate.dbf')\n",
    "df = dbf.to_dataframe()\n",
    "df.head()"
   ]
  },
  {
   "cell_type": "code",
   "execution_count": 8,
   "metadata": {},
   "outputs": [
    {
     "data": {
      "text/plain": [
       "2"
      ]
     },
     "execution_count": 8,
     "metadata": {},
     "output_type": "execute_result"
    }
   ],
   "source": [
    "row_one = df.iloc[1]\n",
    "row_one.OBJECTID"
   ]
  }
 ],
 "metadata": {
  "kernelspec": {
   "display_name": "Python 3.10.4 64-bit",
   "language": "python",
   "name": "python3"
  },
  "language_info": {
   "codemirror_mode": {
    "name": "ipython",
    "version": 3
   },
   "file_extension": ".py",
   "mimetype": "text/x-python",
   "name": "python",
   "nbconvert_exporter": "python",
   "pygments_lexer": "ipython3",
   "version": "3.10.4"
  },
  "orig_nbformat": 4,
  "vscode": {
   "interpreter": {
    "hash": "cd1a4323fb379de9187160a9aa0337dabefd7009b5703fc03d0198e947213ff5"
   }
  }
 },
 "nbformat": 4,
 "nbformat_minor": 2
}
