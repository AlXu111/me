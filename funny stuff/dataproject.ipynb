{
 "cells": [
  {
   "cell_type": "code",
   "execution_count": 15,
   "metadata": {},
   "outputs": [
    {
     "data": {
      "text/html": [
       "<div>\n",
       "<style scoped>\n",
       "    .dataframe tbody tr th:only-of-type {\n",
       "        vertical-align: middle;\n",
       "    }\n",
       "\n",
       "    .dataframe tbody tr th {\n",
       "        vertical-align: top;\n",
       "    }\n",
       "\n",
       "    .dataframe thead th {\n",
       "        text-align: right;\n",
       "    }\n",
       "</style>\n",
       "<table border=\"1\" class=\"dataframe\">\n",
       "  <thead>\n",
       "    <tr style=\"text-align: right;\">\n",
       "      <th></th>\n",
       "      <th>OBJECTID</th>\n",
       "      <th>NAME</th>\n",
       "      <th>NAME_SHORT</th>\n",
       "      <th>TYPE</th>\n",
       "      <th>IUCN</th>\n",
       "      <th>RES_NO</th>\n",
       "      <th>GAZ_DATE</th>\n",
       "      <th>VERDATE</th>\n",
       "    </tr>\n",
       "  </thead>\n",
       "  <tbody>\n",
       "    <tr>\n",
       "      <th>0</th>\n",
       "      <td>1</td>\n",
       "      <td>Aberbaldie Nature Reserve</td>\n",
       "      <td>Aberbaldie NR</td>\n",
       "      <td>NATURE RESERVE</td>\n",
       "      <td>IA</td>\n",
       "      <td>N0902</td>\n",
       "      <td>2003-03-14</td>\n",
       "      <td>2022-03-31</td>\n",
       "    </tr>\n",
       "    <tr>\n",
       "      <th>1</th>\n",
       "      <td>2</td>\n",
       "      <td>Abercrombie Karst Conservation Reserve</td>\n",
       "      <td>Abercrombie KCR</td>\n",
       "      <td>KARST CONSERVATION RESERVE</td>\n",
       "      <td>III</td>\n",
       "      <td>N0350</td>\n",
       "      <td>1997-12-08</td>\n",
       "      <td>2022-03-31</td>\n",
       "    </tr>\n",
       "    <tr>\n",
       "      <th>2</th>\n",
       "      <td>3</td>\n",
       "      <td>Abercrombie River National Park</td>\n",
       "      <td>Abercrombie River NP</td>\n",
       "      <td>NATIONAL PARK</td>\n",
       "      <td>II</td>\n",
       "      <td>N0093</td>\n",
       "      <td>1995-12-22</td>\n",
       "      <td>2022-03-31</td>\n",
       "    </tr>\n",
       "    <tr>\n",
       "      <th>3</th>\n",
       "      <td>4</td>\n",
       "      <td>Abercrombie River State Conservation Area</td>\n",
       "      <td>Abercrombie River SCA</td>\n",
       "      <td>STATE CONSERVATION AREA</td>\n",
       "      <td>II</td>\n",
       "      <td>N1143</td>\n",
       "      <td>2010-05-21</td>\n",
       "      <td>2022-03-31</td>\n",
       "    </tr>\n",
       "    <tr>\n",
       "      <th>4</th>\n",
       "      <td>5</td>\n",
       "      <td>Adelyne CCA Zone 3 State Conservation Area</td>\n",
       "      <td>Adelyne CCAZ3 SCA</td>\n",
       "      <td>CCA ZONE 3 STATE CONSERVATION AREA</td>\n",
       "      <td>II</td>\n",
       "      <td>N1163</td>\n",
       "      <td>2011-01-01</td>\n",
       "      <td>2022-03-31</td>\n",
       "    </tr>\n",
       "  </tbody>\n",
       "</table>\n",
       "</div>"
      ],
      "text/plain": [
       "   OBJECTID                                        NAME  \\\n",
       "0         1                   Aberbaldie Nature Reserve   \n",
       "1         2      Abercrombie Karst Conservation Reserve   \n",
       "2         3             Abercrombie River National Park   \n",
       "3         4   Abercrombie River State Conservation Area   \n",
       "4         5  Adelyne CCA Zone 3 State Conservation Area   \n",
       "\n",
       "              NAME_SHORT                                TYPE IUCN RES_NO  \\\n",
       "0          Aberbaldie NR                      NATURE RESERVE   IA  N0902   \n",
       "1        Abercrombie KCR          KARST CONSERVATION RESERVE  III  N0350   \n",
       "2   Abercrombie River NP                       NATIONAL PARK   II  N0093   \n",
       "3  Abercrombie River SCA             STATE CONSERVATION AREA   II  N1143   \n",
       "4      Adelyne CCAZ3 SCA  CCA ZONE 3 STATE CONSERVATION AREA   II  N1163   \n",
       "\n",
       "     GAZ_DATE     VERDATE  \n",
       "0  2003-03-14  2022-03-31  \n",
       "1  1997-12-08  2022-03-31  \n",
       "2  1995-12-22  2022-03-31  \n",
       "3  2010-05-21  2022-03-31  \n",
       "4  2011-01-01  2022-03-31  "
      ]
     },
     "execution_count": 15,
     "metadata": {},
     "output_type": "execute_result"
    }
   ],
   "source": [
    "import matplotlib\n",
    "import matplotlib.pyplot as plt\n",
    "import numpy as np\n",
    "import pandas as pd\n",
    "from simpledbf import Dbf5\n",
    "from datetime import datetime\n",
    "dbf = Dbf5('NPWS_Estate.dbf')\n",
    "df = dbf.to_dataframe()\n",
    "df.head()"
   ]
  },
  {
   "cell_type": "code",
   "execution_count": 8,
   "metadata": {},
   "outputs": [
    {
     "data": {
      "text/plain": [
       "2"
      ]
     },
     "execution_count": 8,
     "metadata": {},
     "output_type": "execute_result"
    }
   ],
   "source": [
    "row_one = df.iloc[1]\n",
    "row_one.OBJECTID"
   ]
  },
  {
   "cell_type": "code",
   "execution_count": 5,
   "metadata": {},
   "outputs": [
    {
     "data": {
      "text/plain": [
       "['OBJECTID',\n",
       " 'NAME',\n",
       " 'NAME_SHORT',\n",
       " 'TYPE',\n",
       " 'IUCN',\n",
       " 'RES_NO',\n",
       " 'GAZ_DATE',\n",
       " 'VERDATE']"
      ]
     },
     "execution_count": 5,
     "metadata": {},
     "output_type": "execute_result"
    }
   ],
   "source": [
    "list(dbf.columns)"
   ]
  },
  {
   "cell_type": "code",
   "execution_count": 8,
   "metadata": {},
   "outputs": [
    {
     "data": {
      "text/plain": [
       "<AxesSubplot:>"
      ]
     },
     "execution_count": 8,
     "metadata": {},
     "output_type": "execute_result"
    },
    {
     "data": {
      "image/png": "[encoded data removed]",
      "text/plain": [
       "<Figure size 432x288 with 1 Axes>"
      ]
     },
     "metadata": {
      "needs_background": "light"
     },
     "output_type": "display_data"
    }
   ],
   "source": [
    "df[\"IUCN\"].hist()"
   ]
  },
  {
   "cell_type": "markdown",
   "metadata": {},
   "source": [
    "IUCN Category Meanings: \n",
    "Ia = Strict Nature Reserve\n",
    "\n",
    "Ib = Wilderness Area\n",
    "\n",
    "II = National Park\n",
    "\n",
    "III = Natural Monument or Feature\n",
    "\n",
    "IV = Habitat/Species Management Area\n",
    "\n",
    "V = Protected Landscape/Seascape\n",
    "\n",
    "VI = Protected area with sustainable use of natural resources\n",
    "\n",
    "NR = (Not Reported) - For protected areas where an IUCN category is unknown and/or the data provider has not provided any related information.\n",
    "\n",
    "NA = (Not Applicable) - Denotes an area that does not meet the NRS criteria or the IUCN definition of a protected area but has management complimentary to the NRS.\n",
    "\n",
    "NAS = (Not Assigned) - The protected area meets the standard definition of protected areas but the data provider has chosen not to use the IUCN Protected Area Management Categories."
   ]
  },
  {
   "cell_type": "code",
   "execution_count": 9,
   "metadata": {},
   "outputs": [
    {
     "data": {
      "text/plain": [
       "<AxesSubplot:>"
      ]
     },
     "execution_count": 9,
     "metadata": {},
     "output_type": "execute_result"
    },
    {
     "data": {
      "image/png": "[encoded data removed]",
      "text/plain": [
       "<Figure size 432x288 with 1 Axes>"
      ]
     },
     "metadata": {
      "needs_background": "light"
     },
     "output_type": "display_data"
    }
   ],
   "source": [
    "df[\"TYPE\"].hist()"
   ]
  },
  {
   "cell_type": "code",
   "execution_count": 11,
   "metadata": {},
   "outputs": [
    {
     "data": {
      "text/plain": [
       "<AxesSubplot:>"
      ]
     },
     "execution_count": 11,
     "metadata": {},
     "output_type": "execute_result"
    },
    {
     "data": {
      "image/png": "[encoded data removed]",
      "text/plain": [
       "<Figure size 432x288 with 1 Axes>"
      ]
     },
     "metadata": {
      "needs_background": "light"
     },
     "output_type": "display_data"
    }
   ],
   "source": [
    "df[\"GAZ_DATE\"].hist()"
   ]
  },
  {
   "cell_type": "code",
   "execution_count": 12,
   "metadata": {},
   "outputs": [
    {
     "data": {
      "text/plain": [
       "NATURE RESERVE                        427\n",
       "NATIONAL PARK                         210\n",
       "STATE CONSERVATION AREA               126\n",
       "CCA ZONE 1 NATIONAL PARK               34\n",
       "CCA ZONE 3 STATE CONSERVATION AREA     23\n",
       "REGIONAL PARK                          22\n",
       "ABORIGINAL AREA                        21\n",
       "HISTORIC SITE                          16\n",
       "CCA ZONE 2 ABORIGINAL AREA              5\n",
       "KARST CONSERVATION RESERVE              4\n",
       "Name: TYPE, dtype: int64"
      ]
     },
     "execution_count": 12,
     "metadata": {},
     "output_type": "execute_result"
    }
   ],
   "source": [
    "df[\"TYPE\"].value_counts()"
   ]
  },
  {
   "cell_type": "markdown",
   "metadata": {},
   "source": [
    "Kart Conservation reserves are all the protected caves within NSW. It's kinda crazy how there's only 4 protected caves in all of NSW. Might explore this revelation. However, Aboriginal Areas are pretty abysmal too, with a total of 26 protected areas, with only 5 of them. CCAs are places that are de-facto controlled by the community. Nature Reserves differ to National Parks as the primary reason for a NR is for research, while NPs are used for recreation to the general public,although nature reserves still allow visitors, its just not as encouraged."
   ]
  },
  {
   "cell_type": "code",
   "execution_count": 13,
   "metadata": {},
   "outputs": [
    {
     "data": {
      "text/plain": [
       "II     360\n",
       "IA     359\n",
       "IV      58\n",
       "NA      37\n",
       "V       32\n",
       "IB      25\n",
       "III      9\n",
       "Name: IUCN, dtype: int64"
      ]
     },
     "execution_count": 13,
     "metadata": {},
     "output_type": "execute_result"
    }
   ],
   "source": [
    "df[\"IUCN\"].value_counts()"
   ]
  },
  {
   "cell_type": "code",
   "execution_count": 14,
   "metadata": {},
   "outputs": [
    {
     "data": {
      "text/plain": [
       "1999-01-01    81\n",
       "2001-01-01    72\n",
       "2005-12-01    53\n",
       "2003-01-01    48\n",
       "1999-03-05    29\n",
       "              ..\n",
       "1954-12-03     1\n",
       "1984-03-30     1\n",
       "1988-03-18     1\n",
       "2009-03-27     1\n",
       "1982-01-22     1\n",
       "Name: GAZ_DATE, Length: 333, dtype: int64"
      ]
     },
     "execution_count": 14,
     "metadata": {},
     "output_type": "execute_result"
    }
   ],
   "source": [
    "df[\"GAZ_DATE\"].value_counts()"
   ]
  },
  {
   "cell_type": "markdown",
   "metadata": {},
   "source": [
    "It seems something significant happened on 1999-01-01, 2001-01-01, 2005-12-01 and 2003-01-01 to warrant them having to register that many places in one day. Maybe government protocol forces them to push it all towards a new year? Why are the 3 out of the 4 on the first of January of certain years? may be interesting to investigate this."
   ]
  },
  {
   "cell_type": "code",
   "execution_count": 16,
   "metadata": {},
   "outputs": [
    {
     "data": {
      "text/plain": [
       "N0902    1\n",
       "N0062    1\n",
       "N0078    1\n",
       "N0623    1\n",
       "N0460    1\n",
       "        ..\n",
       "N1139    1\n",
       "N0786    1\n",
       "N0702    1\n",
       "N0745    1\n",
       "N0689    1\n",
       "Name: RES_NO, Length: 888, dtype: int64"
      ]
     },
     "execution_count": 16,
     "metadata": {},
     "output_type": "execute_result"
    }
   ],
   "source": [
    "df[\"RES_NO\"].value_counts()"
   ]
  }
 ],
 "metadata": {
  "kernelspec": {
   "display_name": "Python 3.10.4 64-bit",
   "language": "python",
   "name": "python3"
  },
  "language_info": {
   "codemirror_mode": {
    "name": "ipython",
    "version": 3
   },
   "file_extension": ".py",
   "mimetype": "text/x-python",
   "name": "python",
   "nbconvert_exporter": "python",
   "pygments_lexer": "ipython3",
   "version": "3.10.4"
  },
  "orig_nbformat": 4,
  "vscode": {
   "interpreter": {
    "hash": "cd1a4323fb379de9187160a9aa0337dabefd7009b5703fc03d0198e947213ff5"
   }
  }
 },
 "nbformat": 4,
 "nbformat_minor": 2
}
